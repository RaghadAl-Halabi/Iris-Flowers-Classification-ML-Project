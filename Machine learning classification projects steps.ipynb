{
 "cells": [
  {
   "cell_type": "markdown",
   "id": "31d43627",
   "metadata": {},
   "source": [
    "# 0. Libraries"
   ]
  },
  {
   "cell_type": "code",
   "execution_count": 4,
   "id": "7fe9a2b1",
   "metadata": {},
   "outputs": [],
   "source": [
    "import numpy as np\n",
    "import pandas as pd\n",
    "import matplotlib.pyplot as plt\n",
    "import seaborn as sns\n",
    "from sklearn.model_selection import train_test_split\n",
    "from sklearn.dummy import DummyClassifier\n",
    "from sklearn.metrics import accuracy_score, classification_report\n",
    "from sklearn.metrics import confusion_matrix"
   ]
  },
  {
   "cell_type": "markdown",
   "id": "7ce4d8f5",
   "metadata": {},
   "source": [
    "# 1. Loading the Dataset"
   ]
  },
  {
   "cell_type": "code",
   "execution_count": null,
   "id": "c297102f",
   "metadata": {},
   "outputs": [],
   "source": [
    "file_path = \n",
    "_data = pd.read_csv(file_path)"
   ]
  },
  {
   "cell_type": "markdown",
   "id": "ebd30dbd",
   "metadata": {},
   "source": [
    "# 2. Quick dataset summary"
   ]
  },
  {
   "cell_type": "markdown",
   "id": "b0d96b99",
   "metadata": {},
   "source": [
    "## 2.0. Checking for missing data"
   ]
  },
  {
   "cell_type": "code",
   "execution_count": null,
   "id": "cce73c83",
   "metadata": {},
   "outputs": [],
   "source": [
    "_data.isnull().sum()"
   ]
  },
  {
   "cell_type": "markdown",
   "id": "9a67ec47",
   "metadata": {},
   "source": [
    "## 2.1. Checking for the dimension of the dataset"
   ]
  },
  {
   "cell_type": "code",
   "execution_count": null,
   "id": "90c28c54",
   "metadata": {},
   "outputs": [],
   "source": [
    "_data.shape"
   ]
  },
  {
   "cell_type": "markdown",
   "id": "7f98572f",
   "metadata": {},
   "source": [
    "## 2.2. Statistical summary using .describe()"
   ]
  },
  {
   "cell_type": "code",
   "execution_count": null,
   "id": "d8956746",
   "metadata": {},
   "outputs": [],
   "source": [
    "_data.describe()"
   ]
  },
  {
   "cell_type": "markdown",
   "id": "27cd032b",
   "metadata": {},
   "source": [
    "## 2.3. Checking for the distribution of each class that we are trying to predict"
   ]
  },
  {
   "cell_type": "code",
   "execution_count": null,
   "id": "80c2bfab",
   "metadata": {},
   "outputs": [],
   "source": [
    "_data.groupby('class').size()\n",
    "# or: class_counts = _data['class'].value_counts()\n",
    "# print(class_counts)"
   ]
  },
  {
   "cell_type": "markdown",
   "id": "53446776",
   "metadata": {},
   "source": [
    "# 3. Exploring data with visualization"
   ]
  },
  {
   "cell_type": "markdown",
   "id": "b66b1c73",
   "metadata": {},
   "source": [
    "## 3.0. Visualizing the distribution"
   ]
  },
  {
   "cell_type": "code",
   "execution_count": null,
   "id": "38f9d156",
   "metadata": {},
   "outputs": [],
   "source": [
    "nameplot = _data['class'].value_counts().plot.bar(title='')\n",
    "nameplot.set_xlabel('class',size=20)\n",
    "nameplot.set_ylabel('count',size=20)"
   ]
  },
  {
   "cell_type": "markdown",
   "id": "9cd49b62",
   "metadata": {},
   "source": [
    "## 3.1. Box and Whisker plot"
   ]
  },
  {
   "cell_type": "code",
   "execution_count": null,
   "id": "fafaa7d6",
   "metadata": {},
   "outputs": [],
   "source": [
    "_data.plot(kind='box', vert=False, figsize=(10, 2), title = 'Boxplot of numerical features')\n",
    "plt.show()"
   ]
  },
  {
   "cell_type": "markdown",
   "id": "c9c0136a",
   "metadata": {},
   "source": [
    "## 3.2. Histogram"
   ]
  },
  {
   "cell_type": "code",
   "execution_count": 2,
   "id": "04957ed1",
   "metadata": {},
   "outputs": [],
   "source": [
    "_data.hist()\n",
    "plt.show()\n",
    "# We can see which attributes have normal distribution"
   ]
  },
  {
   "cell_type": "markdown",
   "id": "b49e2328",
   "metadata": {},
   "source": [
    "## 3.3. Multivariate scatter plot"
   ]
  },
  {
   "cell_type": "code",
   "execution_count": null,
   "id": "643d37a4",
   "metadata": {},
   "outputs": [],
   "source": [
    "sns.set(style=\"ticks\")\n",
    "sns.pairplot(_data, hue=\"class\")\n",
    "# We can visualize the pair-wise relationship in our dataset¶"
   ]
  },
  {
   "cell_type": "markdown",
   "id": "5ba30a35",
   "metadata": {},
   "source": [
    "# 4. Data Modeling"
   ]
  },
  {
   "cell_type": "markdown",
   "id": "2dadf757",
   "metadata": {},
   "source": [
    "## 4.0 Train-Test Split"
   ]
  },
  {
   "cell_type": "code",
   "execution_count": null,
   "id": "75f488fb",
   "metadata": {},
   "outputs": [],
   "source": [
    "X = _data.drop(['class'], axis=1)\n",
    "Y = _data['class']\n",
    "X_train, X_test, Y_train, Y_test = train_test_split(X, Y, test_size=0.2, random_state=7)"
   ]
  },
  {
   "cell_type": "markdown",
   "id": "bcdb596d",
   "metadata": {},
   "source": [
    "## 4.1 Models Building"
   ]
  },
  {
   "cell_type": "code",
   "execution_count": null,
   "id": "d2af26cc",
   "metadata": {},
   "outputs": [],
   "source": [
    "# models\n",
    "models = []\n",
    "\n",
    "# linear models\n",
    "models.append(('LR', LogisticRegression(solver='liblinear', multi_class=\"auto\")))\n",
    "models.append(('LDA', LinearDiscriminantAnalysis()))\n",
    "\n",
    "# nonlinear models\n",
    "models.append(('CART', DecisionTreeClassifier()))\n",
    "models.append(('KNN', KNeighborsClassifier()))\n",
    "models.append(('GNB', GaussianNB()))\n",
    "models.append(('SVC', SVC(gamma=\"auto\")))\n",
    "\n",
    "# evaluate each model in turn\n",
    "print(\"Model Accuracy:\")\n",
    "names = []\n",
    "accuracy = []\n",
    "for name, model in models:\n",
    "    # 10 fold cross validation to evaluate model\n",
    "    kfold = KFold(n_splits=10, random_state=7)\n",
    "    cv_results = cross_val_score(model, X_train, Y_train, cv=kfold, scoring='accuracy')\n",
    "    \n",
    "    # display the cross validation results of the current model\n",
    "    names.append(name)\n",
    "    accuracy.append(cv_results)\n",
    "    msg = \"%s: accuracy=%f std=(%f)\" % (name, cv_results.mean(), cv_results.std())\n",
    "    print(msg) "
   ]
  },
  {
   "cell_type": "code",
   "execution_count": null,
   "id": "860fb87f",
   "metadata": {},
   "outputs": [],
   "source": [
    "# Visualizing the training with Box Plot\n",
    "\n",
    "list_of_tuples = list(zip(names, accuracy))\n",
    "df = pd.DataFrame(list_of_tuples,\n",
    "                  columns=['names', 'accuracy'])\n",
    "\n",
    "df = df.explode('accuracy')\n",
    "df['accuracy'] = df['accuracy'].astype('float')\n",
    "ax = sns.boxplot(data=df, x='names', y='accuracy')\n",
    "ax.set_title('Model Accuracy Comparison')\n",
    "\n",
    "# This will help us to see which models have small accuracy deviation to be chosen as the best models so far"
   ]
  },
  {
   "cell_type": "code",
   "execution_count": null,
   "id": "5fb502a9",
   "metadata": {},
   "outputs": [],
   "source": [
    "#Test the goode models with test data and output their accuracy with confusion matrix together for selecting model\n",
    "# models\n",
    "models = []\n",
    "models.append(('model1', KNeighborsClassifier()))\n",
    "models.append(('model2', SVC(gamma=\"auto\")))"
   ]
  },
  {
   "cell_type": "code",
   "execution_count": null,
   "id": "2e630366",
   "metadata": {},
   "outputs": [],
   "source": [
    "# We will evaluate the testing with accuracy score, confusion matrix, and classification report with Sklearn\n",
    "# reusable function to test our model\n",
    "def test_model(model):\n",
    "    model.fit(X_train, Y_train) # train the whole training set\n",
    "    predictions = model.predict(X_test) # predict on test set\n",
    "    \n",
    "    # output model testing results\n",
    "    print(\"Accuracy:\", accuracy_score(Y_test, predictions))\n",
    "    print(\"Confusion Matrix:\")\n",
    "    print(confusion_matrix(Y_test, predictions))\n",
    "    print(\"Classification Report:\")\n",
    "    print(classification_report(Y_test, predictions))"
   ]
  }
 ],
 "metadata": {
  "kernelspec": {
   "display_name": "Python 3 (ipykernel)",
   "language": "python",
   "name": "python3"
  },
  "language_info": {
   "codemirror_mode": {
    "name": "ipython",
    "version": 3
   },
   "file_extension": ".py",
   "mimetype": "text/x-python",
   "name": "python",
   "nbconvert_exporter": "python",
   "pygments_lexer": "ipython3",
   "version": "3.10.8"
  }
 },
 "nbformat": 4,
 "nbformat_minor": 5
}
